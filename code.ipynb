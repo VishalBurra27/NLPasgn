{
 "cells": [
  {
   "cell_type": "code",
   "execution_count": 2,
   "metadata": {},
   "outputs": [
    {
     "name": "stderr",
     "output_type": "stream",
     "text": [
      "[nltk_data] Downloading package punkt to /home/pettugadi-\n",
      "[nltk_data]     pranav/nltk_data...\n",
      "[nltk_data]   Package punkt is already up-to-date!\n",
      "[nltk_data] Downloading package stopwords to /home/pettugadi-\n",
      "[nltk_data]     pranav/nltk_data...\n",
      "[nltk_data]   Package stopwords is already up-to-date!\n",
      "[nltk_data] Downloading package wordnet to /home/pettugadi-\n",
      "[nltk_data]     pranav/nltk_data...\n",
      "[nltk_data]   Package wordnet is already up-to-date!\n"
     ]
    },
    {
     "data": {
      "text/plain": [
       "True"
      ]
     },
     "execution_count": 2,
     "metadata": {},
     "output_type": "execute_result"
    }
   ],
   "source": [
    "import pandas as pd\n",
    "import re\n",
    "import nltk\n",
    "from nltk.corpus import stopwords\n",
    "from nltk.tokenize import word_tokenize\n",
    "from nltk.stem import WordNetLemmatizer\n",
    "\n",
    "# Download necessary NLTK data\n",
    "nltk.download('punkt')\n",
    "nltk.download('stopwords')\n",
    "nltk.download('wordnet')\n",
    "\n"
   ]
  },
  {
   "cell_type": "code",
   "execution_count": 3,
   "metadata": {},
   "outputs": [],
   "source": [
    "def preprocess_dataset1(file_path):\n",
    "    # Load data\n",
    "    df = pd.read_csv(file_path)\n",
    "    \n",
    "    # Combine title and abstract\n",
    "    df['text'] = df['title'] + ' ' + df['abstract']\n",
    "    \n",
    "    # Clean and preprocess text\n",
    "    df['cleaned_text'] = df['text'].apply(clean_text)\n",
    "    \n",
    "    # Create a new 'label' column based on which label column has a value of 1\n",
    "    label_columns = ['Computer Science', 'Mathematics', 'Statistics', 'Quantitative Biology', 'Quantitative Finance']\n",
    "    df['label'] = df[label_columns].idxmax(axis=1).str.replace('label', '')\n",
    "    \n",
    "    # Drop the original label columns\n",
    "    df = df.drop(columns=label_columns)\n",
    "    \n",
    "    return df"
   ]
  },
  {
   "cell_type": "code",
   "execution_count": null,
   "metadata": {},
   "outputs": [],
   "source": [
    "def load_and_preprocess_data(df, dataset_num):\n",
    "    \n",
    "    # Combine title and abstract\n",
    "    df['text'] = df['title'] + ' ' + df['abstract']\n",
    "    \n",
    "    # Clean and preprocess text\n",
    "    df['cleaned_text'] = df['text'].apply(clean_text)\n",
    "    \n",
    "    # Extract features (X)\n",
    "    X = df['cleaned_text'].tolist()\n",
    "    \n",
    "    # Extract labels (y) based on dataset number\n",
    "    y = df['label'].tolist()    \n",
    "    return X, y\n",
    "\n",
    "def clean_text(text):\n",
    "    # Convert to lowercase\n",
    "    text = text.lower()\n",
    "    \n",
    "    # Remove special characters and numbers\n",
    "    text = re.sub(r'[^a-zA-Z\\s]', '', text)\n",
    "    \n",
    "    # Tokenize\n",
    "    tokens = word_tokenize(text)\n",
    "    \n",
    "    # Remove stopwords\n",
    "    stop_words = set(stopwords.words('english'))\n",
    "    tokens = [token for token in tokens if token not in stop_words]\n",
    "    \n",
    "    # Lemmatization\n",
    "    lemmatizer = WordNetLemmatizer()\n",
    "    tokens = [lemmatizer.lemmatize(token) for token in tokens]\n",
    "    \n",
    "    # Join tokens back into string\n",
    "    cleaned_text = ' '.join(tokens)\n",
    "    \n",
    "    return cleaned_text\n",
    "\n",
    "def prepare_sequences(texts, max_words, max_len):\n",
    "    tokenizer = Tokenizer(num_words=max_words)\n",
    "    tokenizer.fit_on_texts(texts)\n",
    "    sequences = tokenizer.texts_to_sequences(texts)\n",
    "    padded_sequences = pad_sequences(sequences, maxlen=max_len)\n",
    "    return padded_sequences, tokenizer"
   ]
  },
  {
   "cell_type": "code",
   "execution_count": null,
   "metadata": {},
   "outputs": [],
   "source": [
    "# 2. Model Building\n",
    "def build_gru_model(max_words, max_len, embedding_dim, gru_units, num_classes):\n",
    "    model = Sequential([\n",
    "        Embedding(max_words, embedding_dim, input_length=max_len),\n",
    "        GRU(gru_units, return_sequences=True),\n",
    "        GRU(gru_units),\n",
    "        Dense(num_classes, activation='softmax')\n",
    "    ])\n",
    "    model.compile(optimizer='adam', loss='categorical_crossentropy', metrics=['accuracy'])\n",
    "    return model\n",
    "\n"
   ]
  },
  {
   "cell_type": "code",
   "execution_count": null,
   "metadata": {},
   "outputs": [],
   "source": [
    "# 3. Training\n",
    "def train_model(model, X_train, y_train, epochs, batch_size):\n",
    "    callbacks = [\n",
    "        EarlyStopping(patience=3, restore_best_weights=True),\n",
    "        ModelCheckpoint('best_gru_model.h5', save_best_only=True)\n",
    "    ]\n",
    "    history = model.fit(X_train, y_train, epochs=epochs, batch_size=batch_size,\n",
    "                        validation_split=0.2, callbacks=callbacks)\n",
    "    return history\n",
    "\n"
   ]
  },
  {
   "cell_type": "code",
   "execution_count": null,
   "metadata": {},
   "outputs": [],
   "source": [
    "# 4. Evaluation\n",
    "def evaluate_model(model, X_test, y_test):\n",
    "    loss, accuracy = model.evaluate(X_test, y_test)\n",
    "    y_pred = model.predict(X_test)\n",
    "    y_pred_classes = np.argmax(y_pred, axis=1)\n",
    "    y_true = np.argmax(y_test, axis=1)\n",
    "    print(classification_report(y_true, y_pred_classes))\n",
    "    print(confusion_matrix(y_true, y_pred_classes))\n",
    "    return accuracy\n",
    "\n"
   ]
  },
  {
   "cell_type": "code",
   "execution_count": null,
   "metadata": {},
   "outputs": [],
   "source": [
    "# Main execution\n",
    "if __name__ == \"__main__\":\n",
    "    df = preprocess_dataset1('path_to_dataset.csv')\n",
    "    # Load and preprocess data\n",
    "    X, y = load_and_preprocess_data(df, dataset_num=1)\n",
    "    \n",
    "    # Prepare sequences\n",
    "    X_padded, tokenizer = prepare_sequences(X, max_words=10000, max_len=200)\n",
    "    \n",
    "    # Encode labels\n",
    "    label_encoder = LabelEncoder()\n",
    "    y_encoded = label_encoder.fit_transform(y)\n",
    "    \n",
    "    # Split data\n",
    "    X_train, X_test, y_train, y_test = train_test_split(X_padded, y_encoded, test_size=0.2, random_state=42)\n",
    "    \n",
    "    # Build model\n",
    "    model = build_gru_model(max_words=10000, max_len=200, embedding_dim=128, gru_units=64, num_classes=len(np.unique(y)))\n",
    "    \n",
    "    # Train model\n",
    "    history = train_model(model, X_train, y_train, epochs=10, batch_size=32)\n",
    "    \n",
    "    # Evaluate model\n",
    "    accuracy = evaluate_model(model, X_test, y_test)\n",
    "    \n",
    "    print(f\"Final accuracy: {accuracy}\")\n",
    "\n",
    "    # 5. Analysis and Comparison\n",
    "    # Document your findings and prepare for comparison with other models\n"
   ]
  }
 ],
 "metadata": {
  "kernelspec": {
   "display_name": "Python 3",
   "language": "python",
   "name": "python3"
  },
  "language_info": {
   "codemirror_mode": {
    "name": "ipython",
    "version": 3
   },
   "file_extension": ".py",
   "mimetype": "text/x-python",
   "name": "python",
   "nbconvert_exporter": "python",
   "pygments_lexer": "ipython3",
   "version": "3.12.3"
  }
 },
 "nbformat": 4,
 "nbformat_minor": 2
}
